{
 "cells": [
  {
   "cell_type": "markdown",
   "id": "6c693a0b-8009-4b4c-bec5-03a694642160",
   "metadata": {},
   "source": [
    "## Homework 2\n",
    "### Due: Thursday Feb. 13\n",
    "\n",
    "**Integer vs floating point number**\n",
    "\n",
    "Write a program to calculate and print the factorial of a\n",
    "number.  If you wish you can base your program on the\n",
    "user-defined function for factorial given in Section 2.6, but write your\n",
    "program so that it calculates the factorial using *integer*\n",
    "variables, not floating-point ones.  Use your program to calculate the\n",
    "factorial of 200.\n",
    "\n",
    "Now modify your program to use floating-point variables instead and again\n",
    "calculate the factorial of 200.  What do you find?  Explain.\n",
    "\n",
    "(20 points)"
   ]
  },
  {
   "cell_type": "code",
   "execution_count": 1,
   "id": "de7fed8f-325f-4eab-ab18-1e59d1d6b428",
   "metadata": {},
   "outputs": [
    {
     "name": "stdout",
     "output_type": "stream",
     "text": [
      "788657867364790503552363213932185062295135977687173263294742533244359449963403342920304284011984623904177212138919638830257642790242637105061926624952829931113462857270763317237396988943922445621451664240254033291864131227428294853277524242407573903240321257405579568660226031904170324062351700858796178922222789623703897374720000000000000000000000000000000000000000000000000\n"
     ]
    }
   ],
   "source": [
    "# code- factorial for integers\n",
    "\n",
    "x_factorial = 1     #Starting value since this does not affect the final result\n",
    "\n",
    "x = 200\n",
    "\n",
    "if x == 0: \n",
    "    x_factorial = 0\n",
    "    \n",
    "elif x%1 != 0 or x < 0: \n",
    "    print(\"Invalid input. Please set x equal to a positive integer.\")\n",
    "    \n",
    "elif x%1 == 0: \n",
    "    x_factorial = 1\n",
    "    \n",
    "    while x >= 1: \n",
    "        x_factorial = x_factorial * x\n",
    "        x = x-1\n",
    "\n",
    "    print(x_factorial)"
   ]
  },
  {
   "cell_type": "code",
   "execution_count": 2,
   "id": "c79e78a4",
   "metadata": {},
   "outputs": [
    {
     "name": "stdout",
     "output_type": "stream",
     "text": [
      "inf\n",
      "A specific value is given for 200! when 200 is typed as an integer, but the output is infinity when the x-value is set to 200.0, a float.\n"
     ]
    }
   ],
   "source": [
    "# code- factorial for floats\n",
    "\n",
    "x_factorial = 1     #Starting value since this does not affect the final result\n",
    "\n",
    "x = 200.0\n",
    "\n",
    "if x == 0: \n",
    "    x_factorial = 0\n",
    "    \n",
    "elif x%1 != 0 or x < 0: \n",
    "    print(\"Invalid input. Please set x equal to a positive integer.\")\n",
    "    \n",
    "elif x%1 == 0: \n",
    "    x_factorial = 1\n",
    "    \n",
    "    while x >= 1: \n",
    "        x_factorial = x_factorial * x\n",
    "        x = x-1\n",
    "\n",
    "    print(x_factorial)\n",
    "\n",
    "print(\"A specific value is given for 200! when 200 is typed as an integer, but the output is infinity when the x-value is set to 200.0, a float.\")"
   ]
  },
  {
   "cell_type": "markdown",
   "id": "1e9a5155-daa8-4809-8e6a-e5d4ab7c270d",
   "metadata": {},
   "source": [
    "**A Simple Derivative**\n",
    "\n",
    "Suppose we have a function $f(x)$ and we want to\n",
    "calculate its derivative at a point $x$.  We can do that with pencil and\n",
    "paper if we know the mathematical form of the function, or we can do it on\n",
    "the computer by making use of the definition of the derivative:\n",
    "\n",
    "<p style=\"text-align:center;\">\n",
    "${d f\\over d x} = \\lim_{\\delta\\to0} {f(x+\\delta)-f(x)\\over\\delta}.$\n",
    "</p>\n",
    "\n",
    "On the computer we can't actually take the limit as $\\delta$ goes to\n",
    "zero, but we can get a reasonable approximation just by making $\\delta$\n",
    "small.\n",
    "- Write a program that defines a function *f(x)* returning the\n",
    "  value $x(x-1)$, then calculates the derivative of the function at the\n",
    "  point $x=1$ using the formula above with $\\delta=10^{-2}$.  Calculate\n",
    "  the true value of the same derivative analytically and compare with the\n",
    "  answer your program gives.  The two will not agree perfectly.  Why not?\n",
    "- Repeat the calculation for $\\delta=10^{-4}$, $10^{-6}$, $10^{-8}$,\n",
    "  $10^{-10}$, $10^{-12}$, and $10^{-14}$.  You should see that the accuracy\n",
    "  of the calculation initially gets better as $\\delta$ gets smaller, but\n",
    "  then gets worse again.  Why is this?\n",
    "\n",
    "(20 points)"
   ]
  },
  {
   "cell_type": "code",
   "execution_count": 3,
   "id": "84528686-9eb8-4446-81db-1a6dc4a26a30",
   "metadata": {},
   "outputs": [
    {
     "name": "stdout",
     "output_type": "stream",
     "text": [
      "With value delta = 10^(-2) at x= 2, df_wrt_dx=  3.009999999999957\n",
      "With value delta = 10^(-4) at x= 2, df_wrt_dx=  3.000100000005723\n",
      "With value delta = 10^(-6) at x= 2, df_wrt_dx=  3.0000010005082345\n",
      "With value delta = 10^(-8) at x= 2, df_wrt_dx=  2.999999981767587\n",
      "With value delta = 10^(-10) at x= 2, df_wrt_dx=  3.000000248221113\n",
      "With value delta = 10^(-12) at x= 2, df_wrt_dx=  3.000266701747023\n",
      "With value delta = 10^(-14) at x= 2, df_wrt_dx=  3.064215547965432\n",
      "As delta gets smaller, the output for the function gets closer to 3 until \n",
      "the output begins to increase again. The reason for this is that with a limited \n",
      "number of bits available for computing, especially in the case of very small \n",
      "numbers, the computer fails to 'store' the numbers correctly, resulting in \n",
      "imprecise calculations.\n"
     ]
    }
   ],
   "source": [
    "# code\n",
    "\n",
    "def deriv_function(x): \n",
    "    deriv = x*(x-1)\n",
    "    return deriv\n",
    "\n",
    "# def deriv_plus_delta(x, delta): \n",
    "#     deriv_delta = (x+delta)*(x+delta-1)\n",
    "#     return deriv_delta\n",
    "\n",
    "def df_wrt_dx(x, delta):\n",
    "#    deriv_delta = (x+delta)*(x+delta-1)\n",
    "    full_deriv = (deriv_function(x+delta)-deriv_function(x))/delta\n",
    "    return full_deriv\n",
    "\n",
    "df_wrt_dx(2, 0.01)\n",
    "\n",
    "# x*(x-1) = x^2-x. Derivative is 2x-1. x=2: df/dx(2)= x'(2)= 4-1 = 3.\n",
    "\n",
    "print(\"With value delta = 10^(-2) at x= 2, df_wrt_dx= \", df_wrt_dx(2, 0.01))\n",
    "print(\"With value delta = 10^(-4) at x= 2, df_wrt_dx= \", df_wrt_dx(2, 10**(-4)))\n",
    "print(\"With value delta = 10^(-6) at x= 2, df_wrt_dx= \", df_wrt_dx(2, 10**(-6)))\n",
    "print(\"With value delta = 10^(-8) at x= 2, df_wrt_dx= \", df_wrt_dx(2, 10**(-8)))\n",
    "print(\"With value delta = 10^(-10) at x= 2, df_wrt_dx= \", df_wrt_dx(2, 10**(-10)))\n",
    "print(\"With value delta = 10^(-12) at x= 2, df_wrt_dx= \", df_wrt_dx(2, 10**(-12)))\n",
    "print(\"With value delta = 10^(-14) at x= 2, df_wrt_dx= \", df_wrt_dx(2, 10**(-14)))\n",
    "\n",
    "print(\"As delta gets smaller, the output for the function gets closer to 3 until \\n\"\n",
    "      \"the output begins to increase again. The reason for this is that with a limited \\n\"\n",
    "      \"number of bits available for computing, especially in the case of very small \\n\"\n",
    "      \"numbers, the computer fails to 'store' the numbers correctly, resulting in \\n\"\n",
    "      \"imprecise calculations.\")"
   ]
  },
  {
   "cell_type": "markdown",
   "id": "ebb2e1bb-74fa-4897-9d4d-8ba74bfe1ad2",
   "metadata": {},
   "source": [
    "### Simpson's Rule\n",
    "\n",
    "- Write a program to calculate an approximate value for the integral $\\int_{0}^{2} ( x^4 - 2x + 1)dx$ from Example 5.1 in the book, but using Simpson's rule with 10 slices instead of the trapezoid rule. You may be able to modify your code from the trapezoid rule to complete this task. Compare your result to the known correct value of 4.4. What is the fractional error on your calculation?\n",
    "\n",
    "- Copy your code and modify it to use one hundred slices, then one thousand. Note the improvement in the result and compare to the results from the trapezoid rule.\n",
    "\n",
    "(30 points)"
   ]
  },
  {
   "cell_type": "code",
   "execution_count": 39,
   "id": "d8370bf3-7d95-442e-8d4d-b3636a60e6e7",
   "metadata": {},
   "outputs": [
    {
     "name": "stdout",
     "output_type": "stream",
     "text": [
      "4.400426666666667\n",
      "The fractional error in my calculation is 0.009696969696970648 percent with 10 steps.\n"
     ]
    }
   ],
   "source": [
    "# code- 10 steps\n",
    "\n",
    "N = 10\n",
    "LowLim = 0\n",
    "UppLim = 2\n",
    "h = (UppLim-LowLim)/N\n",
    "\n",
    "OddSum = 0\n",
    "EvenSum = 0\n",
    "\n",
    "def func_x(x): \n",
    "    return x**4-2*x+1\n",
    "\n",
    "for kOdd in range(1,N,2):      #Remember to set upper limit to include N-1 rather than stopping at it\n",
    "    OddSum += func_x(LowLim+kOdd*h)\n",
    "    \n",
    "for kEven in range(2,N-1,2):      #Remember to set upper limit to include N rather than stopping at it\n",
    "    EvenSum += func_x(LowLim+kEven*h)\n",
    "\n",
    "SimpsonArea = (h/3)*(func_x(LowLim)+func_x(UppLim)+4*OddSum+2*EvenSum)\n",
    "print(SimpsonArea)\n",
    "\n",
    "FracError = ((SimpsonArea/4.4)-1)*100\n",
    "\n",
    "print(\"The fractional error in my calculation is\", FracError, \"percent with 10 steps.\")"
   ]
  },
  {
   "cell_type": "code",
   "execution_count": 40,
   "id": "b5c9413c",
   "metadata": {},
   "outputs": [
    {
     "name": "stdout",
     "output_type": "stream",
     "text": [
      "4.400000042666668\n",
      "The fractional error in my calculation is 9.696969893724372e-07 percent with 10 steps.\n"
     ]
    }
   ],
   "source": [
    "# code\n",
    "\n",
    "N = 100\n",
    "LowLim = 0\n",
    "UppLim = 2\n",
    "h = (UppLim-LowLim)/N\n",
    "\n",
    "OddSum = 0\n",
    "EvenSum = 0\n",
    "\n",
    "def func_x(x): \n",
    "    return x**4-2*x+1\n",
    "\n",
    "for kOdd in range(1,N,2):      #Remember to set upper limit to include N-1 rather than stopping at it\n",
    "    OddSum += func_x(LowLim+kOdd*h)\n",
    "    \n",
    "for kEven in range(2,N-1,2):      #Remember to set upper limit to include N rather than stopping at it\n",
    "    EvenSum += func_x(LowLim+kEven*h)\n",
    "\n",
    "SimpsonArea = (h/3)*(func_x(LowLim)+func_x(UppLim)+4*OddSum+2*EvenSum)\n",
    "print(SimpsonArea)\n",
    "\n",
    "FracError = ((SimpsonArea/4.4)-1)*100\n",
    "\n",
    "print(\"The fractional error in my calculation is\", FracError, \"percent with 10 steps.\")"
   ]
  },
  {
   "cell_type": "code",
   "execution_count": 47,
   "id": "270818b4",
   "metadata": {
    "scrolled": false
   },
   "outputs": [
    {
     "name": "stdout",
     "output_type": "stream",
     "text": [
      "4.400000000004267\n",
      "The fractional error in my calculation is 9.696687897076117e-11 percent with 10 steps.\n",
      "Each order of magnitude added to the number of steps increases the precision of the final answer by four orders of magnitude. In comparison, the trapezoid rule only increases the precision by two orders of magnitude for every \n",
      "power of ten added to the step count.\n"
     ]
    }
   ],
   "source": [
    "# code\n",
    "\n",
    "N = 1000\n",
    "LowLim = 0\n",
    "UppLim = 2\n",
    "h = (UppLim-LowLim)/N\n",
    "\n",
    "OddSum = 0\n",
    "EvenSum = 0\n",
    "\n",
    "def func_x(x): \n",
    "    return x**4-2*x+1\n",
    "\n",
    "for kOdd in range(1,N,2):      #Remember to set upper limit to include N-1 rather than stopping at it\n",
    "    OddSum += func_x(LowLim+kOdd*h)\n",
    "    \n",
    "for kEven in range(2,N-1,2):      #Remember to set upper limit to include N rather than stopping at it\n",
    "    EvenSum += func_x(LowLim+kEven*h)\n",
    "\n",
    "SimpsonArea = (h/3)*(func_x(LowLim)+func_x(UppLim)+4*OddSum+2*EvenSum)\n",
    "print(SimpsonArea)\n",
    "\n",
    "FracError = ((SimpsonArea/4.4)-1)*100\n",
    "\n",
    "print(\"The fractional error in my calculation is\", FracError, \"percent with 10 steps.\")\n",
    "print(\"Each order of magnitude added to the number of steps increases the precision of the final answer by four \\\n",
    "orders of magnitude. In comparison, the trapezoid rule only increases the precision by two orders of magnitude \\\n",
    "for every \\npower of ten added to the step count.\")"
   ]
  },
  {
   "cell_type": "markdown",
   "id": "4c080cd1-540e-4ab2-a0d6-3372d1899b4f",
   "metadata": {},
   "source": [
    "### An Integral With No Analytic Solution\n",
    "\n",
    "Consider the integral\n",
    "\n",
    "$$ E(x) = \\int_{0}^{x} \\exp{-t^2} dt$$\n",
    "\n",
    "- Write a program to calculate $E(x)$ for values of x from 0 to 3 in steps of 0.1. Choose for yourself what method you will use for performing the integral and a suitable number of slices.\n",
    "\n",
    "- When you are convinced your program is working, extend it further to make a graph of E(x) as a function of x.\n",
    "\n",
    "(30 points)"
   ]
  },
  {
   "cell_type": "code",
   "execution_count": 104,
   "id": "27aaf5cb-8c02-4c8a-affe-d7d67c969b59",
   "metadata": {},
   "outputs": [
    {
     "data": {
      "image/png": "[encoded data removed]",
      "text/plain": [
       "<Figure size 576x432 with 1 Axes>"
      ]
     },
     "metadata": {
      "needs_background": "light"
     },
     "output_type": "display_data"
    }
   ],
   "source": [
    "import numpy as np\n",
    "import matplotlib.pyplot as plt\n",
    "\n",
    "def func_t(t): \n",
    "    return np.exp(-(t**2))\n",
    "\n",
    "xplot= []\n",
    "yplot= []\n",
    "\n",
    "for x in np.arange(0.1, 3, 0.1): \n",
    "    N = int(x*100)\n",
    "    LowLim = 0\n",
    "    UppLim = x\n",
    "    h = (UppLim-LowLim)/N\n",
    "\n",
    "    OddSum = 0\n",
    "    EvenSum = 0\n",
    "\n",
    "    for kOdd in range(1,N-1,2): \n",
    "        OddSum += func_t(LowLim+kOdd*h)\n",
    "    \n",
    "    for kEven in range(2,N-2,2): \n",
    "        EvenSum += func_t(LowLim+kEven*h)\n",
    "    \n",
    "    SimpsonAreaExp = (h/3)*(func_t(LowLim)+func_t(UppLim)+4*OddSum+2*EvenSum)\n",
    "#    print(SimpsonAreaExp)\n",
    "\n",
    "    xplot.append(x)\n",
    "    yplot.append(SimpsonAreaExp)\n",
    "\n",
    "E_x = func_t\n",
    "\n",
    "plt.figure(figsize = (8, 6))\n",
    "\n",
    "plt.title(\"Simpson's Rule Integration of exp(-t$^2$)dt\", size = 18)\n",
    "plt.xlabel(\"x\", size = 15)\n",
    "plt.ylabel(\"E(x)\", size = 15)\n",
    "plt.plot(xplot, yplot, c='green')\n",
    "plt.show()"
   ]
  },
  {
   "cell_type": "code",
   "execution_count": null,
   "id": "af3d3d4e",
   "metadata": {},
   "outputs": [],
   "source": []
  }
 ],
 "metadata": {
  "kernelspec": {
   "display_name": "Python 3 (ipykernel)",
   "language": "python",
   "name": "python3"
  },
  "language_info": {
   "codemirror_mode": {
    "name": "ipython",
    "version": 3
   },
   "file_extension": ".py",
   "mimetype": "text/x-python",
   "name": "python",
   "nbconvert_exporter": "python",
   "pygments_lexer": "ipython3",
   "version": "3.9.12"
  }
 },
 "nbformat": 4,
 "nbformat_minor": 5
}
