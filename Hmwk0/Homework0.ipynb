{
 "cells": [
  {
   "cell_type": "markdown",
   "id": "b00409ad-7cc3-4e64-97cb-ac5401ece1fa",
   "metadata": {},
   "source": [
    "You've been given a file helpfully named `fakeData.txt`. Your mission, should you choose to accept it, is to:\n",
    "\n",
    "- Read in that file\n",
    "- Seperate it into two sets using the \"bad\" column (-1 means bad)\n",
    "- Plot the good data\n",
    "- Plot the bad data using \"X\"s to clearly denote it\n",
    "- Fit a line to the data using an appropriate polynomial function\n",
    "\n",
    "You should accept the mission, it is a completion grade. The purpose of this assignment is to see how much you remember from your intro to programming class, and to see if you developed and very good or very bad habits. Please do your best to demonstrate good habits! (e.g., descriptive variable names, readable code, maybe even proper PEP 8 coding style!)\n",
    "\n",
    "You may use any resources at your disposal, except your friends please. I want to see what **YOU** remember. But your textbook, the internet, any lecture notes or homework you have from your previous all, are all free game as reference for this assignment. Just try to avoid copy-pasting too much (I'll be able to tell)."
   ]
  },
  {
   "cell_type": "code",
   "execution_count": 1,
   "id": "ad79923c-22d9-43db-bc17-29401fe90b27",
   "metadata": {},
   "outputs": [],
   "source": [
    "# code\n",
    "import numpy as np"
   ]
  },
  {
   "cell_type": "code",
   "execution_count": null,
   "id": "187daf79-ef03-4153-aeb6-dfdf457cb507",
   "metadata": {},
   "outputs": [],
   "source": []
  }
 ],
 "metadata": {
  "kernelspec": {
   "display_name": "Python 3 (ipykernel)",
   "language": "python",
   "name": "python3"
  },
  "language_info": {
   "codemirror_mode": {
    "name": "ipython",
    "version": 3
   },
   "file_extension": ".py",
   "mimetype": "text/x-python",
   "name": "python",
   "nbconvert_exporter": "python",
   "pygments_lexer": "ipython3",
   "version": "3.9.12"
  }
 },
 "nbformat": 4,
 "nbformat_minor": 5
}
