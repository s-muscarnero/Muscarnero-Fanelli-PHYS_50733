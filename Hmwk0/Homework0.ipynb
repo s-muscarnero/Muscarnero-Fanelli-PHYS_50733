{
 "cells": [
  {
   "cell_type": "markdown",
   "id": "b00409ad-7cc3-4e64-97cb-ac5401ece1fa",
   "metadata": {},
   "source": [
    "You've been given a file helpfully named `fakeData.txt`. Your mission, should you choose to accept it, is to:\n",
    "\n",
    "- Read in that file\n",
    "- Seperate it into two sets using the \"bad\" column (-1 means bad)\n",
    "- Plot the good data\n",
    "- Plot the bad data using \"X\"s to clearly denote it\n",
    "- Fit a line to the data using an appropriate polynomial function\n",
    "\n",
    "You should accept the mission, it is a completion grade. The purpose of this assignment is to see how much you remember from your intro to programming class, and to see if you developed and very good or very bad habits. Please do your best to demonstrate good habits! (e.g., descriptive variable names, readable code, maybe even proper PEP 8 coding style!)\n",
    "\n",
    "You may use any resources at your disposal, except your friends please. I want to see what **YOU** remember. But your textbook, the internet, any lecture notes or homework you have from your previous all, are all free game as reference for this assignment. Just try to avoid copy-pasting too much (I'll be able to tell)."
   ]
  },
  {
   "cell_type": "code",
   "execution_count": 1,
   "id": "ad79923c-22d9-43db-bc17-29401fe90b27",
   "metadata": {},
   "outputs": [],
   "source": [
    "# code\n",
    "import numpy as np\n",
    "import matplotlib.pyplot as plt\n",
    "from astropy.io import fits\n",
    "import scipy.optimize as opt"
   ]
  },
  {
   "cell_type": "code",
   "execution_count": 2,
   "id": "187daf79-ef03-4153-aeb6-dfdf457cb507",
   "metadata": {},
   "outputs": [
    {
     "data": {
      "text/plain": [
       "dtype([('x', '<f8'), ('y', '<f8'), ('bad', '<i8')])"
      ]
     },
     "execution_count": 2,
     "metadata": {},
     "output_type": "execute_result"
    }
   ],
   "source": [
    "#Read in the file\n",
    "\n",
    "#with open('fakeData.txt', 'r') as file: \n",
    "#    content = file.read()\n",
    "#    \n",
    "#print(content)\n",
    "\n",
    "dat = np.genfromtxt(\"fakeData.txt\", dtype=None, encoding=\"UTF-8\", delimiter=\",\", names=True)\n",
    "dat.dtype"
   ]
  },
  {
   "cell_type": "code",
   "execution_count": 3,
   "id": "c22d9ce3-3304-48bd-930c-4e6ba253401b",
   "metadata": {},
   "outputs": [
    {
     "name": "stdout",
     "output_type": "stream",
     "text": [
      "GOOD DATA [( -3.28, 5.430000e+00, 1) (  6.62, 4.080000e+00, 1)\n",
      " (  8.74, 8.660000e+00, 1) (  8.74, 9.420000e+00, 1)\n",
      " (  0.96, 1.279000e+01, 1) (  7.56, 1.402000e+01, 1)\n",
      " (  2.32, 1.838000e+01, 1) ( -1.59, 2.266000e+01, 1)\n",
      " (  8.81, 2.563000e+01, 1) (  8.1 , 3.308000e+01, 1)\n",
      " (  0.88, 3.861000e+01, 1) ( 13.42, 4.653000e+01, 1)\n",
      " (  6.83, 5.415000e+01, 1) (  3.57, 5.620000e+01, 1)\n",
      " ( 11.93, 6.345000e+01, 1) ( -0.38, 7.169000e+01, 1)\n",
      " (  5.67, 8.433000e+01, 1) (  2.03, 9.544000e+01, 1)\n",
      " (  7.  , 1.025500e+02, 1) (  5.92, 1.122700e+02, 1)\n",
      " ( 13.13, 1.227600e+02, 1) (  6.18, 1.311600e+02, 1)\n",
      " ( 10.4 , 1.477000e+02, 1) ( 16.73, 1.591000e+02, 1)\n",
      " (  6.88, 1.719500e+02, 1) ( 15.36, 1.979900e+02, 1)\n",
      " ( 14.96, 2.117300e+02, 1) ( 15.64, 2.297100e+02, 1)\n",
      " ( 20.72, 2.424100e+02, 1) ( 18.87, 2.594200e+02, 1)\n",
      " ( 12.44, 2.750200e+02, 1) ( 18.63, 2.908000e+02, 1)\n",
      " ( 21.58, 3.079000e+02, 1) ( 21.49, 3.293800e+02, 1)\n",
      " ( 25.02, 3.421100e+02, 1) ( 21.26, 3.625800e+02, 1)\n",
      " ( 17.4 , 3.849700e+02, 1) ( 22.33, 4.035600e+02, 1)\n",
      " ( 25.27, 4.206700e+02, 1) ( 20.1 , 4.467900e+02, 1)\n",
      " ( 21.48, 4.639800e+02, 1) ( 15.18, 4.859800e+02, 1)\n",
      " ( 20.7 , 5.055500e+02, 1) ( 27.62, 5.304300e+02, 1)\n",
      " ( 14.1 , 5.576100e+02, 1) ( 25.08, 5.796300e+02, 1)\n",
      " ( 21.  , 5.973300e+02, 1) ( 24.09, 6.319200e+02, 1)\n",
      " ( 30.35, 6.529800e+02, 1) ( 33.09, 7.053600e+02, 1)\n",
      " ( 34.63, 7.319000e+02, 1) ( 29.25, 7.611300e+02, 1)\n",
      " ( 35.06, 7.859800e+02, 1) ( 25.06, 8.171000e+02, 1)\n",
      " ( 27.86, 8.401900e+02, 1) ( 21.57, 8.729000e+02, 1)\n",
      " ( 24.91, 9.034600e+02, 1) ( 26.82, 9.328900e+02, 1)\n",
      " ( 26.76, 9.640800e+02, 1) ( 28.35, 9.921600e+02, 1)\n",
      " ( 34.93, 1.025090e+03, 1) ( 24.08, 1.057480e+03, 1)\n",
      " ( 30.33, 1.091100e+03, 1) ( 35.41, 1.154600e+03, 1)\n",
      " ( 31.04, 1.191760e+03, 1) ( 41.84, 1.225480e+03, 1)\n",
      " ( 37.43, 1.265530e+03, 1) ( 32.58, 1.296450e+03, 1)\n",
      " ( 38.69, 1.338400e+03, 1) ( 40.23, 1.366630e+03, 1)\n",
      " ( 36.95, 1.406880e+03, 1) ( 32.29, 1.447550e+03, 1)\n",
      " ( 35.96, 1.523910e+03, 1) ( 47.  , 1.562350e+03, 1)\n",
      " ( 41.29, 1.645230e+03, 1) ( 41.26, 1.682730e+03, 1)\n",
      " ( 46.91, 1.722060e+03, 1) ( 43.09, 1.766980e+03, 1)\n",
      " ( 46.26, 1.805310e+03, 1) ( 43.11, 1.851860e+03, 1)\n",
      " ( 38.68, 1.894500e+03, 1) ( 48.81, 1.940060e+03, 1)\n",
      " ( 50.29, 1.982130e+03, 1) ( 43.67, 2.028710e+03, 1)\n",
      " ( 50.37, 2.074480e+03, 1) ( 37.8 , 2.118020e+03, 1)\n",
      " ( 41.43, 2.162930e+03, 1) ( 39.72, 2.212130e+03, 1)\n",
      " ( 46.45, 2.261560e+03, 1) ( 45.21, 2.309260e+03, 1)\n",
      " ( 47.22, 2.404810e+03, 1) ( 46.8 , 2.455530e+03, 1)\n",
      " ( 49.32, 2.501990e+03, 1) ( 54.69, 2.552680e+03, 1)\n",
      " ( 48.2 , 2.600330e+03, 1) ( 51.26, 2.656210e+03, 1)\n",
      " ( 52.1 , 2.704370e+03, 1) ( 54.4 , 2.760320e+03, 1)\n",
      " ( 54.3 , 2.810000e+03, 1) ( 57.32, 2.864540e+03, 1)\n",
      " ( 58.79, 2.917650e+03, 1) ( 53.9 , 2.973220e+03, 1)\n",
      " ( 51.66, 3.029240e+03, 1) ( 45.89, 3.082060e+03, 1)\n",
      " ( 50.01, 3.136670e+03, 1) ( 53.9 , 3.198190e+03, 1)\n",
      " ( 61.44, 3.249930e+03, 1) ( 52.65, 3.307220e+03, 1)\n",
      " ( 56.07, 3.364750e+03, 1) ( 48.94, 3.422780e+03, 1)\n",
      " ( 53.27, 3.481300e+03, 1) ( 60.85, 3.545780e+03, 1)\n",
      " ( 59.06, 3.603530e+03, 1) ( 67.31, 3.665690e+03, 1)\n",
      " ( 53.83, 3.723660e+03, 1) ( 66.22, 3.782130e+03, 1)\n",
      " ( 61.27, 3.846160e+03, 1) ( 62.5 , 3.905840e+03, 1)\n",
      " ( 68.85, 3.970630e+03, 1) ( 61.98, 4.099180e+03, 1)\n",
      " ( 58.36, 4.162170e+03, 1) ( 62.22, 4.294790e+03, 1)\n",
      " ( 63.11, 4.357080e+03, 1) ( 62.57, 4.489110e+03, 1)\n",
      " ( 68.21, 4.557900e+03, 1) ( 71.79, 4.625310e+03, 1)\n",
      " ( 60.  , 4.694150e+03, 1) ( 71.29, 4.760380e+03, 1)\n",
      " ( 63.88, 4.832960e+03, 1) ( 72.72, 4.902920e+03, 1)\n",
      " ( 70.3 , 4.970440e+03, 1) ( 70.61, 5.041050e+03, 1)\n",
      " ( 73.74, 5.112990e+03, 1) ( 78.56, 5.187030e+03, 1)\n",
      " ( 67.01, 5.257440e+03, 1) ( 73.58, 5.328380e+03, 1)\n",
      " ( 75.26, 5.404820e+03, 1) ( 75.4 , 5.479350e+03, 1)\n",
      " ( 66.83, 5.627580e+03, 1) ( 75.09, 5.705030e+03, 1)\n",
      " ( 78.07, 5.779770e+03, 1) ( 76.23, 5.856810e+03, 1)\n",
      " ( 83.21, 5.931790e+03, 1) ( 67.58, 6.010820e+03, 1)\n",
      " ( 82.44, 6.083280e+03, 1) ( 80.63, 6.162640e+03, 1)\n",
      " ( 76.54, 6.242150e+03, 1) ( 83.25, 6.318400e+03, 1)\n",
      " ( 70.54, 6.400390e+03, 1) ( 76.82, 6.483260e+03, 1)\n",
      " ( 73.47, 6.564260e+03, 1) ( 81.06, 6.730030e+03, 1)\n",
      " ( 73.09, 6.891110e+03, 1) ( 81.05, 7.140220e+03, 1)\n",
      " ( 83.98, 7.231440e+03, 1) ( 85.23, 7.311920e+03, 1)\n",
      " ( 79.25, 7.398580e+03, 1) ( 83.44, 7.483910e+03, 1)\n",
      " ( 85.45, 7.572280e+03, 1) ( 89.69, 7.655990e+03, 1)\n",
      " ( 88.15, 7.744760e+03, 1) ( 83.98, 7.834230e+03, 1)\n",
      " ( 88.57, 7.919250e+03, 1) ( 96.36, 8.102040e+03, 1)\n",
      " ( 93.06, 8.188700e+03, 1) ( 97.27, 8.285240e+03, 1)\n",
      " ( 87.62, 8.373840e+03, 1) ( 89.84, 8.466700e+03, 1)\n",
      " ( 82.54, 8.557160e+03, 1) ( 95.37, 8.649280e+03, 1)\n",
      " ( 90.99, 8.743740e+03, 1) ( 86.13, 8.838280e+03, 1)\n",
      " ( 89.48, 8.930680e+03, 1) ( 95.41, 9.022660e+03, 1)\n",
      " (103.49, 9.122000e+03, 1) ( 96.81, 9.216590e+03, 1)\n",
      " ( 91.62, 9.315270e+03, 1) ( 92.38, 9.412360e+03, 1)\n",
      " ( 96.44, 9.505060e+03, 1) ( 99.66, 9.703560e+03, 1)\n",
      " (106.51, 9.801840e+03, 1) (103.7 , 9.902370e+03, 1)\n",
      " ( 97.34, 1.010649e+04, 1)]\n",
      "BAD DATA [(  0.76,   184.65, -1) ( 39.28,   675.66, -1) ( 23.21,  1125.49, -1)\n",
      " ( 25.59,  1482.69, -1) ( 56.41,  1604.18, -1) ( 36.27,  2354.38, -1)\n",
      " ( 75.83,  4031.32, -1) ( 51.68,  4226.73, -1) ( 81.17,  4420.56, -1)\n",
      " ( 62.75,  5552.71, -1) ( 89.76,  6643.24, -1) ( 71.33,  6807.33, -1)\n",
      " ( 71.91,  6977.11, -1) ( 95.92,  7056.39, -1) ( 78.52,  8013.2 , -1)\n",
      " (107.2 ,  9604.41, -1) (110.99, 10006.97, -1)]\n"
     ]
    }
   ],
   "source": [
    "#data = {'bad': [-1, 1]}\n",
    "#df = pd.DataFrame(data)\n",
    "#df_BadData = df[df['bad'] == -1]\n",
    "#df_GoodData = df[df['bad'] == 1]\n",
    "\n",
    "print(\"GOOD DATA\", dat[np.where(dat[\"bad\"] > -1)])\n",
    "\n",
    "print(\"BAD DATA\", dat[np.where(dat[\"bad\"] == -1)])\n",
    "\n",
    "Good_Data = dat[np.where(dat[\"bad\"] > -1)]\n",
    "\n",
    "Bad_Data = dat[np.where(dat[\"bad\"] == -1)]\n",
    "\n",
    "#Try for loops\n",
    "#for 'bad' in content: \n",
    "#    if 'bad' = 1: \n",
    "#        print(\"Good data\", content)\n",
    "#    \n",
    "#for 'bad'= -1: \n",
    "#    print(\"Bad data\", content)"
   ]
  },
  {
   "cell_type": "code",
   "execution_count": 4,
   "id": "7a6ef621-5880-462c-b8d5-ef8f89d9acdd",
   "metadata": {},
   "outputs": [
    {
     "data": {
      "text/plain": [
       "<matplotlib.collections.PathCollection at 0x7fcca2508280>"
      ]
     },
     "execution_count": 4,
     "metadata": {},
     "output_type": "execute_result"
    },
    {
     "data": {
      "image/png": "[encoded data removed]",
      "text/plain": [
       "<Figure size 864x576 with 1 Axes>"
      ]
     },
     "metadata": {
      "needs_background": "light"
     },
     "output_type": "display_data"
    }
   ],
   "source": [
    "#Plot the good data and the bad data\n",
    "fig = plt.figure(figsize=(12,8))\n",
    "ax = fig.add_subplot(111)\n",
    "ax.scatter(Good_Data['x'], Good_Data['y'], s=15 ,c='b' ,marker='o')\n",
    "ax.scatter(Bad_Data['x'], Bad_Data['y'], s=15 ,c='r' ,marker='x')\n",
    "\n",
    "# ax.xaxis.set_tick_params(labelsize=20)\n",
    "# ax.yaxis.set_tick_params(labelsize=20)\n",
    "# plt.show()"
   ]
  },
  {
   "cell_type": "code",
   "execution_count": 21,
   "id": "70a8b170-0bce-4979-92d2-42d88072c218",
   "metadata": {},
   "outputs": [
    {
     "name": "stdout",
     "output_type": "stream",
     "text": [
      "POLY2: 0.879, 12.015, -132.438\n"
     ]
    },
    {
     "data": {
      "image/png": "[encoded data removed]",
      "text/plain": [
       "<Figure size 864x576 with 1 Axes>"
      ]
     },
     "metadata": {
      "needs_background": "light"
     },
     "output_type": "display_data"
    }
   ],
   "source": [
    "#Polynomial fitting\n",
    "def poly2(x,a,b,c):\n",
    "    return a*(x**2)+(b*x)+c\n",
    "\n",
    "def poly3(x,a,b,c,d):\n",
    "    return (a*(x**3))+(b*(x**2))+(c*x)+d\n",
    "\n",
    "#Define Monte Carlo fits\n",
    "def mcFit3(func, x, y, x_err=0.1, y_err=0.1,p0=[1,1,1]):\n",
    "    paramA = list()\n",
    "    paramB = list()\n",
    "    paramC = list()\n",
    "    iters = 500 \n",
    "    for i in range(iters):\n",
    "        # remember random normal distribution (Gaussian)\n",
    "        weightsx = np.random.randn(len(y))\n",
    "        weightsy = np.random.randn(len(y))\n",
    "        y_adj = y + y_err*weightsy\n",
    "        x_adj = x + x_err*weightsx \n",
    "        popt, pcov = opt.curve_fit(func, x_adj, y_adj, p0=p0)\n",
    "        paramA.append(popt[0])\n",
    "        paramB.append(popt[1])\n",
    "        paramC.append(popt[2])\n",
    "    return (np.median(paramA),np.median(paramB),np.median(paramC))\n",
    "\n",
    "def mcFit4(func, x, y, x_err=0.1, y_err=0.1, p0=[1,1,1,1]):\n",
    "    paramA = list()\n",
    "    paramB = list()\n",
    "    paramC = list()\n",
    "    paramD = list()\n",
    "    iters = 500 \n",
    "    for i in range(iters):\n",
    "        # remember random normal distribution (Gaussian)\n",
    "        weightsx = np.random.randn(len(y))\n",
    "        weightsy = np.random.randn(len(y))\n",
    "        y_adj = y + y_err*weightsy\n",
    "        x_adj = x + x_err*weightsx \n",
    "        popt, pcov = opt.curve_fit(func, x_adj, y_adj, p0=p0)\n",
    "        paramA.append(popt[0])\n",
    "        paramB.append(popt[1])\n",
    "        paramC.append(popt[2])\n",
    "        paramD.append(popt[3])\n",
    "    return (np.median(paramA),np.median(paramB),np.median(paramC),np.median(paramD))\n",
    "\n",
    "fig = plt.figure(figsize=(12,8))\n",
    "ax = fig.add_subplot(111)\n",
    "ax.scatter(Good_Data['x'], Good_Data['y'], s=15 ,c='b' ,marker='o', label= 'good')\n",
    "\n",
    "#Quadratic fit\n",
    "polyA, polyB, polyC,  = mcFit3(poly2, Good_Data['x'], Good_Data['y'], 0.001, \\\n",
    "                         0.001,p0=[600,1,1])\n",
    "print(f'POLY2: {polyA:.3f}, {polyB:.3f}, {polyC:.3f}')\n",
    "\n",
    "ax.set_xlabel(\"x-axis\", size=20)\n",
    "ax.set_ylabel(\"y-axis\", size=20)\n",
    "\n",
    "ax.plot(Good_Data['x'],poly2(Good_Data['x'], polyA, polyB, polyC), c= 'g', label='Fit: poly2')\n",
    "plt.legend(loc='best', fontsize=18)\n",
    "plt.show()\n",
    "\n",
    "#Cubic fit\n",
    "#cfA, cfB, cfC, cfD = mcFit4(poly3, star['FE_H'][cut1], star['O_FE'][cut1], 0.001, \\\n",
    "#                            0.001,p0=[0,0,0,0])\n",
    "#print(f'POLY3: {cfA:.3f}, {cfB:.3f}, {cfC:.3f}, {cfD:.3f}')"
   ]
  },
  {
   "cell_type": "code",
   "execution_count": null,
   "id": "b1cc98f8-2567-49b8-a896-3e6ea7e030d1",
   "metadata": {},
   "outputs": [],
   "source": []
  }
 ],
 "metadata": {
  "kernelspec": {
   "display_name": "Python 3 (ipykernel)",
   "language": "python",
   "name": "python3"
  },
  "language_info": {
   "codemirror_mode": {
    "name": "ipython",
    "version": 3
   },
   "file_extension": ".py",
   "mimetype": "text/x-python",
   "name": "python",
   "nbconvert_exporter": "python",
   "pygments_lexer": "ipython3",
   "version": "3.9.12"
  }
 },
 "nbformat": 4,
 "nbformat_minor": 5
}
